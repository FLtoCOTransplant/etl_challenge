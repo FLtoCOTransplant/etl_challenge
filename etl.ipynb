{
 "cells": [
  {
   "cell_type": "code",
   "execution_count": 1,
   "metadata": {},
   "outputs": [],
   "source": [
    "#import our dependencies\n",
    "import pandas as pd\n",
    "import numpy as np\n",
    "import pymongo\n",
    "from pymongo import MongoClient"
   ]
  },
  {
   "cell_type": "code",
   "execution_count": 2,
   "metadata": {},
   "outputs": [],
   "source": [
    "# create variables for our files\n",
    "file1 = \"Resources/DailyProduction_New.csv\"\n",
    "file2 = \"Resources/rseg_well_completion-168069.csv\""
   ]
  },
  {
   "cell_type": "code",
   "execution_count": 3,
   "metadata": {},
   "outputs": [],
   "source": [
    "# read in our files\n",
    "df1 = pd.read_csv(file1)\n",
    "df2 = pd.read_csv(file2)"
   ]
  },
  {
   "cell_type": "code",
   "execution_count": 4,
   "metadata": {},
   "outputs": [
    {
     "data": {
      "text/plain": [
       "Index(['Description', 'ReferenceID', 'APINumber1', 'Day', 'GasProd',\n",
       "       'GasSales', 'OilProd', 'OilSales', 'WaterProd', 'WaterHauled',\n",
       "       'DowntimeHours', 'HeaterTreaterUsage', 'TreaterFlare', 'OilTreatment',\n",
       "       'WaterTreatment', 'InjectedWater', 'InjectedGas', 'TubingPressure',\n",
       "       'CasingPressure', 'LinePressure', 'Choke', 'TreaterPressure',\n",
       "       'TreaterTemp', 'LeaseFlare', 'ProductionNotes', 'Textbox4', 'Textbox5',\n",
       "       'Textbox7', 'Textbox9', 'Textbox10', 'Textbox11', 'Textbox12',\n",
       "       'Textbox13', 'Textbox14', 'Textbox15', 'Textbox17', 'Textbox18',\n",
       "       'Textbox19'],\n",
       "      dtype='object')"
      ]
     },
     "execution_count": 4,
     "metadata": {},
     "output_type": "execute_result"
    }
   ],
   "source": [
    "# Review df1 column names\n",
    "df1.columns"
   ]
  },
  {
   "cell_type": "code",
   "execution_count": 5,
   "metadata": {},
   "outputs": [],
   "source": [
    "# Change the name of the APINumber1 so we can merge on that column\n",
    "df1.rename(columns = {'APINumber1':'API10'}, inplace = True)"
   ]
  },
  {
   "cell_type": "code",
   "execution_count": 6,
   "metadata": {},
   "outputs": [
    {
     "data": {
      "text/plain": [
       "Index(['Description', 'ReferenceID', 'API10', 'Day', 'GasProd', 'GasSales',\n",
       "       'OilProd', 'OilSales', 'WaterProd', 'WaterHauled', 'DowntimeHours',\n",
       "       'HeaterTreaterUsage', 'TreaterFlare', 'OilTreatment', 'WaterTreatment',\n",
       "       'InjectedWater', 'InjectedGas', 'TubingPressure', 'CasingPressure',\n",
       "       'LinePressure', 'Choke', 'TreaterPressure', 'TreaterTemp', 'LeaseFlare',\n",
       "       'ProductionNotes', 'Textbox4', 'Textbox5', 'Textbox7', 'Textbox9',\n",
       "       'Textbox10', 'Textbox11', 'Textbox12', 'Textbox13', 'Textbox14',\n",
       "       'Textbox15', 'Textbox17', 'Textbox18', 'Textbox19'],\n",
       "      dtype='object')"
      ]
     },
     "execution_count": 6,
     "metadata": {},
     "output_type": "execute_result"
    }
   ],
   "source": [
    "# Review df1 column name change\n",
    "df1.columns"
   ]
  },
  {
   "cell_type": "code",
   "execution_count": 7,
   "metadata": {},
   "outputs": [
    {
     "data": {
      "text/plain": [
       "Index(['API_UWI', 'Unformatted_API_UWI', 'WellName', 'Country',\n",
       "       'StateProvince', 'County', 'ENVOperator', 'StateWellType', 'Formation',\n",
       "       'FirstProdDate', 'Latitude', 'Longitude', 'Latitude_BH', 'Longitude_BH',\n",
       "       'TVD_FT', 'MD_FT', 'Field', 'Section', 'Township', 'Range',\n",
       "       'Section_Township_Range', 'ElevationKB_FT', 'ElevationGL_FT',\n",
       "       'PermitApprovedDate', 'DrillingEndDate', 'StateFileNumber',\n",
       "       'UpperPerf_FT', 'LowerPerf_FT', 'FirstProdYear'],\n",
       "      dtype='object')"
      ]
     },
     "execution_count": 7,
     "metadata": {},
     "output_type": "execute_result"
    }
   ],
   "source": [
    "# Review df2 column names\n",
    "df2.columns"
   ]
  },
  {
   "cell_type": "code",
   "execution_count": 8,
   "metadata": {},
   "outputs": [],
   "source": [
    "# Change the name of the UWI to the same name as df1 so we can merge on that column\n",
    "df2.rename(columns = {'Unformatted_API_UWI':'API10'}, inplace = True)"
   ]
  },
  {
   "cell_type": "code",
   "execution_count": 9,
   "metadata": {},
   "outputs": [
    {
     "data": {
      "text/plain": [
       "Index(['API_UWI', 'API10', 'WellName', 'Country', 'StateProvince', 'County',\n",
       "       'ENVOperator', 'StateWellType', 'Formation', 'FirstProdDate',\n",
       "       'Latitude', 'Longitude', 'Latitude_BH', 'Longitude_BH', 'TVD_FT',\n",
       "       'MD_FT', 'Field', 'Section', 'Township', 'Range',\n",
       "       'Section_Township_Range', 'ElevationKB_FT', 'ElevationGL_FT',\n",
       "       'PermitApprovedDate', 'DrillingEndDate', 'StateFileNumber',\n",
       "       'UpperPerf_FT', 'LowerPerf_FT', 'FirstProdYear'],\n",
       "      dtype='object')"
      ]
     },
     "execution_count": 9,
     "metadata": {},
     "output_type": "execute_result"
    }
   ],
   "source": [
    "# Review df2 column name change\n",
    "df2.columns"
   ]
  },
  {
   "cell_type": "code",
   "execution_count": 10,
   "metadata": {},
   "outputs": [
    {
     "data": {
      "text/html": [
       "<div>\n",
       "<style scoped>\n",
       "    .dataframe tbody tr th:only-of-type {\n",
       "        vertical-align: middle;\n",
       "    }\n",
       "\n",
       "    .dataframe tbody tr th {\n",
       "        vertical-align: top;\n",
       "    }\n",
       "\n",
       "    .dataframe thead th {\n",
       "        text-align: right;\n",
       "    }\n",
       "</style>\n",
       "<table border=\"1\" class=\"dataframe\">\n",
       "  <thead>\n",
       "    <tr style=\"text-align: right;\">\n",
       "      <th></th>\n",
       "      <th>Description</th>\n",
       "      <th>ReferenceID</th>\n",
       "      <th>API10</th>\n",
       "      <th>Day</th>\n",
       "      <th>GasProd</th>\n",
       "      <th>GasSales</th>\n",
       "      <th>OilProd</th>\n",
       "      <th>OilSales</th>\n",
       "      <th>WaterProd</th>\n",
       "      <th>WaterHauled</th>\n",
       "      <th>...</th>\n",
       "      <th>Range</th>\n",
       "      <th>Section_Township_Range</th>\n",
       "      <th>ElevationKB_FT</th>\n",
       "      <th>ElevationGL_FT</th>\n",
       "      <th>PermitApprovedDate</th>\n",
       "      <th>DrillingEndDate</th>\n",
       "      <th>StateFileNumber</th>\n",
       "      <th>UpperPerf_FT</th>\n",
       "      <th>LowerPerf_FT</th>\n",
       "      <th>FirstProdYear</th>\n",
       "    </tr>\n",
       "  </thead>\n",
       "  <tbody>\n",
       "    <tr>\n",
       "      <th>0</th>\n",
       "      <td>BELLE 1-12H - Well Completion</td>\n",
       "      <td>NaN</td>\n",
       "      <td>3305302658</td>\n",
       "      <td>6/1/2020</td>\n",
       "      <td>4.0</td>\n",
       "      <td>NaN</td>\n",
       "      <td>116.90</td>\n",
       "      <td>NaN</td>\n",
       "      <td>26.72</td>\n",
       "      <td>NaN</td>\n",
       "      <td>...</td>\n",
       "      <td>102W</td>\n",
       "      <td>12-149N-102W</td>\n",
       "      <td>2249.0</td>\n",
       "      <td>2235.0</td>\n",
       "      <td>2005-05-23</td>\n",
       "      <td>2005-11-07</td>\n",
       "      <td>15840.0</td>\n",
       "      <td>9480.0</td>\n",
       "      <td>15108.0</td>\n",
       "      <td>*Pre-2010</td>\n",
       "    </tr>\n",
       "    <tr>\n",
       "      <th>1</th>\n",
       "      <td>BELLE 1-12H - Well Completion</td>\n",
       "      <td>NaN</td>\n",
       "      <td>3305302658</td>\n",
       "      <td>6/2/2020</td>\n",
       "      <td>4.0</td>\n",
       "      <td>NaN</td>\n",
       "      <td>45.09</td>\n",
       "      <td>NaN</td>\n",
       "      <td>347.36</td>\n",
       "      <td>NaN</td>\n",
       "      <td>...</td>\n",
       "      <td>102W</td>\n",
       "      <td>12-149N-102W</td>\n",
       "      <td>2249.0</td>\n",
       "      <td>2235.0</td>\n",
       "      <td>2005-05-23</td>\n",
       "      <td>2005-11-07</td>\n",
       "      <td>15840.0</td>\n",
       "      <td>9480.0</td>\n",
       "      <td>15108.0</td>\n",
       "      <td>*Pre-2010</td>\n",
       "    </tr>\n",
       "    <tr>\n",
       "      <th>2</th>\n",
       "      <td>BELLE 1-12H - Well Completion</td>\n",
       "      <td>NaN</td>\n",
       "      <td>3305302658</td>\n",
       "      <td>6/3/2020</td>\n",
       "      <td>4.0</td>\n",
       "      <td>NaN</td>\n",
       "      <td>36.74</td>\n",
       "      <td>NaN</td>\n",
       "      <td>0.00</td>\n",
       "      <td>NaN</td>\n",
       "      <td>...</td>\n",
       "      <td>102W</td>\n",
       "      <td>12-149N-102W</td>\n",
       "      <td>2249.0</td>\n",
       "      <td>2235.0</td>\n",
       "      <td>2005-05-23</td>\n",
       "      <td>2005-11-07</td>\n",
       "      <td>15840.0</td>\n",
       "      <td>9480.0</td>\n",
       "      <td>15108.0</td>\n",
       "      <td>*Pre-2010</td>\n",
       "    </tr>\n",
       "    <tr>\n",
       "      <th>3</th>\n",
       "      <td>BELLE 1-12H - Well Completion</td>\n",
       "      <td>NaN</td>\n",
       "      <td>3305302658</td>\n",
       "      <td>6/4/2020</td>\n",
       "      <td>4.0</td>\n",
       "      <td>NaN</td>\n",
       "      <td>36.74</td>\n",
       "      <td>NaN</td>\n",
       "      <td>6.68</td>\n",
       "      <td>NaN</td>\n",
       "      <td>...</td>\n",
       "      <td>102W</td>\n",
       "      <td>12-149N-102W</td>\n",
       "      <td>2249.0</td>\n",
       "      <td>2235.0</td>\n",
       "      <td>2005-05-23</td>\n",
       "      <td>2005-11-07</td>\n",
       "      <td>15840.0</td>\n",
       "      <td>9480.0</td>\n",
       "      <td>15108.0</td>\n",
       "      <td>*Pre-2010</td>\n",
       "    </tr>\n",
       "    <tr>\n",
       "      <th>4</th>\n",
       "      <td>BELLE 1-12H - Well Completion</td>\n",
       "      <td>NaN</td>\n",
       "      <td>3305302658</td>\n",
       "      <td>6/5/2020</td>\n",
       "      <td>4.0</td>\n",
       "      <td>NaN</td>\n",
       "      <td>30.06</td>\n",
       "      <td>NaN</td>\n",
       "      <td>0.00</td>\n",
       "      <td>NaN</td>\n",
       "      <td>...</td>\n",
       "      <td>102W</td>\n",
       "      <td>12-149N-102W</td>\n",
       "      <td>2249.0</td>\n",
       "      <td>2235.0</td>\n",
       "      <td>2005-05-23</td>\n",
       "      <td>2005-11-07</td>\n",
       "      <td>15840.0</td>\n",
       "      <td>9480.0</td>\n",
       "      <td>15108.0</td>\n",
       "      <td>*Pre-2010</td>\n",
       "    </tr>\n",
       "  </tbody>\n",
       "</table>\n",
       "<p>5 rows × 66 columns</p>\n",
       "</div>"
      ],
      "text/plain": [
       "                     Description  ReferenceID       API10       Day  GasProd  \\\n",
       "0  BELLE 1-12H - Well Completion          NaN  3305302658  6/1/2020      4.0   \n",
       "1  BELLE 1-12H - Well Completion          NaN  3305302658  6/2/2020      4.0   \n",
       "2  BELLE 1-12H - Well Completion          NaN  3305302658  6/3/2020      4.0   \n",
       "3  BELLE 1-12H - Well Completion          NaN  3305302658  6/4/2020      4.0   \n",
       "4  BELLE 1-12H - Well Completion          NaN  3305302658  6/5/2020      4.0   \n",
       "\n",
       "   GasSales  OilProd  OilSales  WaterProd  WaterHauled  ...  Range  \\\n",
       "0       NaN   116.90       NaN      26.72          NaN  ...   102W   \n",
       "1       NaN    45.09       NaN     347.36          NaN  ...   102W   \n",
       "2       NaN    36.74       NaN       0.00          NaN  ...   102W   \n",
       "3       NaN    36.74       NaN       6.68          NaN  ...   102W   \n",
       "4       NaN    30.06       NaN       0.00          NaN  ...   102W   \n",
       "\n",
       "   Section_Township_Range  ElevationKB_FT  ElevationGL_FT  PermitApprovedDate  \\\n",
       "0            12-149N-102W          2249.0          2235.0          2005-05-23   \n",
       "1            12-149N-102W          2249.0          2235.0          2005-05-23   \n",
       "2            12-149N-102W          2249.0          2235.0          2005-05-23   \n",
       "3            12-149N-102W          2249.0          2235.0          2005-05-23   \n",
       "4            12-149N-102W          2249.0          2235.0          2005-05-23   \n",
       "\n",
       "   DrillingEndDate  StateFileNumber  UpperPerf_FT  LowerPerf_FT  FirstProdYear  \n",
       "0       2005-11-07          15840.0        9480.0       15108.0      *Pre-2010  \n",
       "1       2005-11-07          15840.0        9480.0       15108.0      *Pre-2010  \n",
       "2       2005-11-07          15840.0        9480.0       15108.0      *Pre-2010  \n",
       "3       2005-11-07          15840.0        9480.0       15108.0      *Pre-2010  \n",
       "4       2005-11-07          15840.0        9480.0       15108.0      *Pre-2010  \n",
       "\n",
       "[5 rows x 66 columns]"
      ]
     },
     "execution_count": 10,
     "metadata": {},
     "output_type": "execute_result"
    }
   ],
   "source": [
    "# Combine the two datasets\n",
    "df3 = pd.merge(df1,df2,on= \"API10\")\n",
    "df3.head()"
   ]
  },
  {
   "cell_type": "code",
   "execution_count": 11,
   "metadata": {},
   "outputs": [
    {
     "data": {
      "text/plain": [
       "Index(['Description', 'ReferenceID', 'API10', 'Day', 'GasProd', 'GasSales',\n",
       "       'OilProd', 'OilSales', 'WaterProd', 'WaterHauled', 'DowntimeHours',\n",
       "       'HeaterTreaterUsage', 'TreaterFlare', 'OilTreatment', 'WaterTreatment',\n",
       "       'InjectedWater', 'InjectedGas', 'TubingPressure', 'CasingPressure',\n",
       "       'LinePressure', 'Choke', 'TreaterPressure', 'TreaterTemp', 'LeaseFlare',\n",
       "       'ProductionNotes', 'Textbox4', 'Textbox5', 'Textbox7', 'Textbox9',\n",
       "       'Textbox10', 'Textbox11', 'Textbox12', 'Textbox13', 'Textbox14',\n",
       "       'Textbox15', 'Textbox17', 'Textbox18', 'Textbox19', 'API_UWI',\n",
       "       'WellName', 'Country', 'StateProvince', 'County', 'ENVOperator',\n",
       "       'StateWellType', 'Formation', 'FirstProdDate', 'Latitude', 'Longitude',\n",
       "       'Latitude_BH', 'Longitude_BH', 'TVD_FT', 'MD_FT', 'Field', 'Section',\n",
       "       'Township', 'Range', 'Section_Township_Range', 'ElevationKB_FT',\n",
       "       'ElevationGL_FT', 'PermitApprovedDate', 'DrillingEndDate',\n",
       "       'StateFileNumber', 'UpperPerf_FT', 'LowerPerf_FT', 'FirstProdYear'],\n",
       "      dtype='object')"
      ]
     },
     "execution_count": 11,
     "metadata": {},
     "output_type": "execute_result"
    }
   ],
   "source": [
    "# Check the merge\n",
    "df3.columns\n"
   ]
  },
  {
   "cell_type": "code",
   "execution_count": 12,
   "metadata": {},
   "outputs": [],
   "source": [
    "# Reorder so API is first column\n",
    "df3 = df3[['API10', 'WellName', 'Description', 'ReferenceID','Day', 'GasProd', 'GasSales',\n",
    "       'OilProd', 'OilSales', 'WaterProd', 'WaterHauled', 'DowntimeHours',\n",
    "       'HeaterTreaterUsage', 'TreaterFlare', 'OilTreatment', 'WaterTreatment',\n",
    "       'InjectedWater', 'InjectedGas', 'TubingPressure', 'CasingPressure',\n",
    "       'LinePressure', 'Choke', 'TreaterPressure', 'TreaterTemp', 'LeaseFlare',\n",
    "       'ProductionNotes', 'Textbox4', 'Textbox5', 'Textbox7', 'Textbox9',\n",
    "       'Textbox10', 'Textbox11', 'Textbox12', 'Textbox13', 'Textbox14',\n",
    "       'Textbox15', 'Textbox17', 'Textbox18', 'Textbox19', 'API_UWI',\n",
    "       'Country', 'StateProvince', 'County', 'ENVOperator',\n",
    "       'StateWellType', 'Formation', 'FirstProdDate', 'Latitude', 'Longitude',\n",
    "       'Latitude_BH', 'Longitude_BH', 'TVD_FT', 'MD_FT', 'Field', 'Section',\n",
    "       'Township', 'Range', 'Section_Township_Range', 'ElevationKB_FT',\n",
    "       'ElevationGL_FT', 'PermitApprovedDate', 'DrillingEndDate',\n",
    "       'StateFileNumber', 'UpperPerf_FT', 'LowerPerf_FT', 'FirstProdYear']]"
   ]
  },
  {
   "cell_type": "code",
   "execution_count": 13,
   "metadata": {},
   "outputs": [
    {
     "data": {
      "text/html": [
       "<div>\n",
       "<style scoped>\n",
       "    .dataframe tbody tr th:only-of-type {\n",
       "        vertical-align: middle;\n",
       "    }\n",
       "\n",
       "    .dataframe tbody tr th {\n",
       "        vertical-align: top;\n",
       "    }\n",
       "\n",
       "    .dataframe thead th {\n",
       "        text-align: right;\n",
       "    }\n",
       "</style>\n",
       "<table border=\"1\" class=\"dataframe\">\n",
       "  <thead>\n",
       "    <tr style=\"text-align: right;\">\n",
       "      <th></th>\n",
       "      <th>API10</th>\n",
       "      <th>WellName</th>\n",
       "      <th>Day</th>\n",
       "      <th>GasProd</th>\n",
       "      <th>OilProd</th>\n",
       "      <th>WaterProd</th>\n",
       "      <th>WaterHauled</th>\n",
       "      <th>DowntimeHours</th>\n",
       "      <th>HeaterTreaterUsage</th>\n",
       "      <th>TreaterFlare</th>\n",
       "      <th>...</th>\n",
       "      <th>Range</th>\n",
       "      <th>Section_Township_Range</th>\n",
       "      <th>ElevationKB_FT</th>\n",
       "      <th>ElevationGL_FT</th>\n",
       "      <th>PermitApprovedDate</th>\n",
       "      <th>DrillingEndDate</th>\n",
       "      <th>StateFileNumber</th>\n",
       "      <th>UpperPerf_FT</th>\n",
       "      <th>LowerPerf_FT</th>\n",
       "      <th>FirstProdYear</th>\n",
       "    </tr>\n",
       "  </thead>\n",
       "  <tbody>\n",
       "    <tr>\n",
       "      <th>0</th>\n",
       "      <td>3305302658</td>\n",
       "      <td>BELLE 1-12H</td>\n",
       "      <td>6/1/2020</td>\n",
       "      <td>4.0</td>\n",
       "      <td>116.90</td>\n",
       "      <td>26.72</td>\n",
       "      <td>NaN</td>\n",
       "      <td>0.0</td>\n",
       "      <td>0.0</td>\n",
       "      <td>NaN</td>\n",
       "      <td>...</td>\n",
       "      <td>102W</td>\n",
       "      <td>12-149N-102W</td>\n",
       "      <td>2249.0</td>\n",
       "      <td>2235.0</td>\n",
       "      <td>2005-05-23</td>\n",
       "      <td>2005-11-07</td>\n",
       "      <td>15840.0</td>\n",
       "      <td>9480.0</td>\n",
       "      <td>15108.0</td>\n",
       "      <td>*Pre-2010</td>\n",
       "    </tr>\n",
       "    <tr>\n",
       "      <th>1</th>\n",
       "      <td>3305302658</td>\n",
       "      <td>BELLE 1-12H</td>\n",
       "      <td>6/2/2020</td>\n",
       "      <td>4.0</td>\n",
       "      <td>45.09</td>\n",
       "      <td>347.36</td>\n",
       "      <td>NaN</td>\n",
       "      <td>0.0</td>\n",
       "      <td>0.0</td>\n",
       "      <td>NaN</td>\n",
       "      <td>...</td>\n",
       "      <td>102W</td>\n",
       "      <td>12-149N-102W</td>\n",
       "      <td>2249.0</td>\n",
       "      <td>2235.0</td>\n",
       "      <td>2005-05-23</td>\n",
       "      <td>2005-11-07</td>\n",
       "      <td>15840.0</td>\n",
       "      <td>9480.0</td>\n",
       "      <td>15108.0</td>\n",
       "      <td>*Pre-2010</td>\n",
       "    </tr>\n",
       "    <tr>\n",
       "      <th>2</th>\n",
       "      <td>3305302658</td>\n",
       "      <td>BELLE 1-12H</td>\n",
       "      <td>6/3/2020</td>\n",
       "      <td>4.0</td>\n",
       "      <td>36.74</td>\n",
       "      <td>0.00</td>\n",
       "      <td>NaN</td>\n",
       "      <td>0.0</td>\n",
       "      <td>0.0</td>\n",
       "      <td>NaN</td>\n",
       "      <td>...</td>\n",
       "      <td>102W</td>\n",
       "      <td>12-149N-102W</td>\n",
       "      <td>2249.0</td>\n",
       "      <td>2235.0</td>\n",
       "      <td>2005-05-23</td>\n",
       "      <td>2005-11-07</td>\n",
       "      <td>15840.0</td>\n",
       "      <td>9480.0</td>\n",
       "      <td>15108.0</td>\n",
       "      <td>*Pre-2010</td>\n",
       "    </tr>\n",
       "    <tr>\n",
       "      <th>3</th>\n",
       "      <td>3305302658</td>\n",
       "      <td>BELLE 1-12H</td>\n",
       "      <td>6/4/2020</td>\n",
       "      <td>4.0</td>\n",
       "      <td>36.74</td>\n",
       "      <td>6.68</td>\n",
       "      <td>NaN</td>\n",
       "      <td>0.0</td>\n",
       "      <td>0.0</td>\n",
       "      <td>NaN</td>\n",
       "      <td>...</td>\n",
       "      <td>102W</td>\n",
       "      <td>12-149N-102W</td>\n",
       "      <td>2249.0</td>\n",
       "      <td>2235.0</td>\n",
       "      <td>2005-05-23</td>\n",
       "      <td>2005-11-07</td>\n",
       "      <td>15840.0</td>\n",
       "      <td>9480.0</td>\n",
       "      <td>15108.0</td>\n",
       "      <td>*Pre-2010</td>\n",
       "    </tr>\n",
       "    <tr>\n",
       "      <th>4</th>\n",
       "      <td>3305302658</td>\n",
       "      <td>BELLE 1-12H</td>\n",
       "      <td>6/5/2020</td>\n",
       "      <td>4.0</td>\n",
       "      <td>30.06</td>\n",
       "      <td>0.00</td>\n",
       "      <td>NaN</td>\n",
       "      <td>0.0</td>\n",
       "      <td>0.0</td>\n",
       "      <td>NaN</td>\n",
       "      <td>...</td>\n",
       "      <td>102W</td>\n",
       "      <td>12-149N-102W</td>\n",
       "      <td>2249.0</td>\n",
       "      <td>2235.0</td>\n",
       "      <td>2005-05-23</td>\n",
       "      <td>2005-11-07</td>\n",
       "      <td>15840.0</td>\n",
       "      <td>9480.0</td>\n",
       "      <td>15108.0</td>\n",
       "      <td>*Pre-2010</td>\n",
       "    </tr>\n",
       "  </tbody>\n",
       "</table>\n",
       "<p>5 rows × 48 columns</p>\n",
       "</div>"
      ],
      "text/plain": [
       "        API10     WellName       Day  GasProd  OilProd  WaterProd  \\\n",
       "0  3305302658  BELLE 1-12H  6/1/2020      4.0   116.90      26.72   \n",
       "1  3305302658  BELLE 1-12H  6/2/2020      4.0    45.09     347.36   \n",
       "2  3305302658  BELLE 1-12H  6/3/2020      4.0    36.74       0.00   \n",
       "3  3305302658  BELLE 1-12H  6/4/2020      4.0    36.74       6.68   \n",
       "4  3305302658  BELLE 1-12H  6/5/2020      4.0    30.06       0.00   \n",
       "\n",
       "   WaterHauled  DowntimeHours  HeaterTreaterUsage  TreaterFlare  ...  Range  \\\n",
       "0          NaN            0.0                 0.0           NaN  ...   102W   \n",
       "1          NaN            0.0                 0.0           NaN  ...   102W   \n",
       "2          NaN            0.0                 0.0           NaN  ...   102W   \n",
       "3          NaN            0.0                 0.0           NaN  ...   102W   \n",
       "4          NaN            0.0                 0.0           NaN  ...   102W   \n",
       "\n",
       "   Section_Township_Range  ElevationKB_FT  ElevationGL_FT  PermitApprovedDate  \\\n",
       "0            12-149N-102W          2249.0          2235.0          2005-05-23   \n",
       "1            12-149N-102W          2249.0          2235.0          2005-05-23   \n",
       "2            12-149N-102W          2249.0          2235.0          2005-05-23   \n",
       "3            12-149N-102W          2249.0          2235.0          2005-05-23   \n",
       "4            12-149N-102W          2249.0          2235.0          2005-05-23   \n",
       "\n",
       "   DrillingEndDate  StateFileNumber  UpperPerf_FT  LowerPerf_FT  FirstProdYear  \n",
       "0       2005-11-07          15840.0        9480.0       15108.0      *Pre-2010  \n",
       "1       2005-11-07          15840.0        9480.0       15108.0      *Pre-2010  \n",
       "2       2005-11-07          15840.0        9480.0       15108.0      *Pre-2010  \n",
       "3       2005-11-07          15840.0        9480.0       15108.0      *Pre-2010  \n",
       "4       2005-11-07          15840.0        9480.0       15108.0      *Pre-2010  \n",
       "\n",
       "[5 rows x 48 columns]"
      ]
     },
     "execution_count": 13,
     "metadata": {},
     "output_type": "execute_result"
    }
   ],
   "source": [
    "# Drop extra columns and check output\n",
    "df3 = df3.drop(df3.columns[[2,3,6,8, 26, 27, 28, 29, 30, 31, 32, 33, 34 ,35, 36, 37, 38, 39 ]], 1)\n",
    "df3.head()\n"
   ]
  },
  {
   "cell_type": "code",
   "execution_count": 14,
   "metadata": {},
   "outputs": [],
   "source": [
    "# Create connection variable\n",
    "conn = 'mongodb://localhost:27017'"
   ]
  },
  {
   "cell_type": "code",
   "execution_count": 15,
   "metadata": {},
   "outputs": [],
   "source": [
    "# Pass connection to the pymongo instance.\n",
    "client = pymongo.MongoClient(conn)"
   ]
  },
  {
   "cell_type": "code",
   "execution_count": 19,
   "metadata": {},
   "outputs": [],
   "source": [
    "# Connect to well_history database.\n",
    "db3 = client.well_history"
   ]
  },
  {
   "cell_type": "code",
   "execution_count": 20,
   "metadata": {},
   "outputs": [],
   "source": [
    "# convert dataframe to dictionary\n",
    "data = df3.to_dict(orient='records')"
   ]
  },
  {
   "cell_type": "code",
   "execution_count": 21,
   "metadata": {},
   "outputs": [
    {
     "data": {
      "text/plain": [
       "<pymongo.results.InsertManyResult at 0x204ee7e3480>"
      ]
     },
     "execution_count": 21,
     "metadata": {},
     "output_type": "execute_result"
    }
   ],
   "source": [
    "# insert the dataframe into mongo\n",
    "db.well_history.insert_many(data)"
   ]
  },
  {
   "cell_type": "code",
   "execution_count": null,
   "metadata": {},
   "outputs": [],
   "source": []
  }
 ],
 "metadata": {
  "kernelspec": {
   "display_name": "Python (PythonData)",
   "language": "python",
   "name": "pythondata"
  },
  "language_info": {
   "codemirror_mode": {
    "name": "ipython",
    "version": 3
   },
   "file_extension": ".py",
   "mimetype": "text/x-python",
   "name": "python",
   "nbconvert_exporter": "python",
   "pygments_lexer": "ipython3",
   "version": "3.8.3"
  }
 },
 "nbformat": 4,
 "nbformat_minor": 4
}
